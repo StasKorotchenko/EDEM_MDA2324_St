{
  "cells": [
    {
      "cell_type": "markdown",
      "metadata": {
        "id": "Sz8ogFjl7a8b"
      },
      "source": [
        "# ENTREGABLE 1"
      ]
    },
    {
      "cell_type": "markdown",
      "metadata": {
        "id": "U4UhX6YXd_F8"
      },
      "source": [
        "INSTRUCCIONES"
      ]
    },
    {
      "cell_type": "markdown",
      "metadata": {
        "id": "V8F4hEQ9eCob"
      },
      "source": [
        "Realizar la primera fase del análisis exploratorio (limpieza) usando el archivo CSV (dataset_banco.csv) con 45215 filas y 17 columnas."
      ]
    },
    {
      "cell_type": "markdown",
      "metadata": {
        "id": "jYJxCZNZDfYe"
      },
      "source": [
        "# 1. El problema del negocio\n",
        "\n",
        "Una entidad bancaria contrata a una empresa de marketing encargada de contactar telefónicamente a posibles clientes para determinar si están interesados o no en adquirir un certificado de depósito a término con el banco.\n",
        "\n",
        "¿Qué perfil tienen los clientes con mayor potencial de conversión?"
      ]
    },
    {
      "cell_type": "markdown",
      "metadata": {
        "id": "4WOEkmPt7aHf"
      },
      "source": [
        "#2. El set de datos\n",
        "\n",
        "Cada registro contiene 16 características (las primeras 16 columnas) y una categoría (\"yes\" o \"no\" dependiendo de si la persona está o no interesada en adquirir el producto). Las columnas son:\n",
        "\n",
        "1. \"age\":  edad (numérica)\n",
        "2. \"job\": tipo de trabajo (categórica: \"admin.\", \"unknown\", \"unemployed\", \"management\", \"housemaid\", \"entrepreneur\", \"student\", \"blue-collar\",\"self-employed\", \"retired\", \"technician\", \"services\")\n",
        "3. \"marital\": estado civil (categórica: \"married\", \"divorced\", \"single\")\n",
        "4. \"education\": nivel educativo (categórica: \"unknown\", \"secondary\", \"primary\", \"tertiary\")\n",
        "5. \"default\": si dejó de pagar sus obligaciones (categórica: \"yes\", \"no\")\n",
        "6. \"balance\": saldo promedio anual en euros (numérica)\n",
        "7. \"housing\": ¿tiene o no crédito hipotecario? (categórica: \"yes\", \"no\")\n",
        "8. \"loan\": ¿tiene créditos de consumo? (categórica: \"yes\", \"no\")\n",
        "9. \"contact\": medio a través del cual fue contactado (categórica: \"unknown\", \"telephone\", \"cellular\")\n",
        "10. \"day\": último día del mes en el que fue contactada (numérica)\n",
        "11. \"month\": último mes en el que fue contactada (categórica: \"jan\", \"feb\", \"mar\", ..., \"nov\", \"dec\")\n",
        "12. \"duration\": duración (en segundos) del último contacto (numérica)\n",
        "13. \"campaign\": número total de veces que fue contactada durante la campaña (numérica)\n",
        "14. \"pdays\": número de días transcurridos después de haber sido contactado antes de la campaña actual (numérica. -1 indica que no fue contactado previamente)\n",
        "15. \"previous\": número de veces que ha sido contactada antes de esta campaña (numérica)\n",
        "16. \"poutcome\": resultado de la campaña de marketing anterior (categórica: \"unknown\", \"other\", \"failure\", \"success\")\n",
        "17. \"y\": categoría ¿el cliente se suscribió a un depósito a término? (categórica: \"yes\", \"no\")"
      ]
    },
    {
      "cell_type": "markdown",
      "metadata": {
        "id": "7wXHT_PLEFkr"
      },
      "source": [
        "#3. Una primera mirada al dataset"
      ]
    },
    {
      "cell_type": "code",
      "execution_count": null,
      "metadata": {
        "id": "SQ_-SdsX7enM"
      },
      "outputs": [],
      "source": [
        "# Importar librerías\n",
        "import pandas as pd\n",
        "import matplotlib.pyplot as plt\n",
        "import seaborn as sns"
      ]
    },
    {
      "cell_type": "code",
      "execution_count": null,
      "metadata": {
        "id": "yECOD3UAEV-a"
      },
      "outputs": [],
      "source": [
        "ruta = \"./dataset_banco.csv\"\n",
        "data = pd.read_csv(ruta)"
      ]
    },
    {
      "cell_type": "code",
      "execution_count": null,
      "metadata": {
        "colab": {
          "base_uri": "https://localhost:8080/",
          "height": 224
        },
        "id": "DAurjZa07b5Z",
        "outputId": "6501e602-4638-4ff6-8d25-411985594681"
      },
      "outputs": [],
      "source": [
        "print(data.shape)\n",
        "data.head()"
      ]
    },
    {
      "cell_type": "code",
      "execution_count": null,
      "metadata": {
        "colab": {
          "base_uri": "https://localhost:8080/"
        },
        "id": "gATCZsQPE3VQ",
        "outputId": "5cfa2777-53f4-4258-99d9-0b733f1fc95b"
      },
      "outputs": [],
      "source": [
        "# Veamos las variables categóricas y las numéricas\n",
        "data.info()"
      ]
    },
    {
      "cell_type": "markdown",
      "metadata": {
        "id": "CGUfF1eZaeoj"
      },
      "source": [
        "#4. Limpieza\n",
        "\n",
        "Realizaremos el proceso de limpieza teniendo en cuenta las situaciones más comunes:\n",
        "\n",
        "1. Datos faltantes en algunas celdas\n",
        "2. Columnas irrelevantes (que no responden al problema que queremos resolver)\n",
        "3. Registros (filas) repetidos\n",
        "4. Valores extremos (*outliers*) en el caso de las variables numéricas. Se deben analizar en detalle pues no necesariamente la solución es eliminarlos\n",
        "5. Errores tipográficos en el caso de las variables categóricas\n",
        "\n",
        "Al final de este proceso de limpieza deberíamos tener un set de datos **íntegro**, listo para la fase de Análisis Exploratorio."
      ]
    },
    {
      "cell_type": "markdown",
      "metadata": {
        "id": "zxyeciKcaClS"
      },
      "source": [
        "## 4.1 Datos faltantes\n",
        "\n",
        "Comenzamos a ver que los datos no están completos, pues no todas las columnas tienen la misma cantidad de registros.\n",
        "\n",
        "El número total de registros debería ser 45.215. Sin embargo columnas como \"job\", \"marital\", \"education\", \"balance\", \"duration\" y \"pdays\".\n",
        "\n",
        "Por ser tan pocos los datos  faltantes optaremos por eliminar las filas correspondientes:"
      ]
    },
    {
      "cell_type": "code",
      "execution_count": null,
      "metadata": {
        "colab": {
          "base_uri": "https://localhost:8080/"
        },
        "id": "nJ3hlVzRYTZc",
        "outputId": "36824032-24d5-4a20-a1aa-34b0264dfb69"
      },
      "outputs": [],
      "source": [
        "valores_nulos = data.isnull().sum()\n",
        "\n",
        "print(f'Null values per colum \\n{valores_nulos}')"
      ]
    },
    {
      "cell_type": "markdown",
      "metadata": {
        "id": "HjIkJ-6OYoci"
      },
      "source": [
        " As you can see there are too few null values, so we proced to delete them"
      ]
    },
    {
      "cell_type": "code",
      "execution_count": null,
      "metadata": {
        "colab": {
          "base_uri": "https://localhost:8080/"
        },
        "id": "Xuw6MfitYwlB",
        "outputId": "cfa76b38-a96a-476b-8a97-55c92fd78ac6"
      },
      "outputs": [],
      "source": [
        "data_1 = data.dropna()\n",
        "\n",
        "print(data_1.isnull().sum())"
      ]
    },
    {
      "cell_type": "markdown",
      "metadata": {
        "id": "4a2bJcMewV33"
      },
      "source": [
        "##4.2 Columnas irrelevantes\n",
        "\n",
        "Una columna irrelevante puede ser:\n",
        "\n",
        "- **Una columna que no contiene información relevante para el problema que queremos resolver**. Por ejemplo en este caso podría ser una columna que no guarde relación con el posible perfil del cliente (deporte favorito, hobbies, comida favorita, etc.)\n",
        "- **Una columna categórica pero con un sólo nivel**. Por ejemplo si en la columna \"job\" solo tuviésemos el nivel \"unknown\".\n",
        "- **Una columna numérica pero con un sólo valor**. Por ejemplo si en la columna \"edad\" todos los vlaores fuesen iguales a 50.\n",
        "- **Columnas con información redundante**. Por ejemplo si además de las columnas \"month\" y \"day\" tuviésemos la columna \"month-day\", resultado de combinar las dos anteriores.\n",
        "\n",
        "Si tenemos la duda de si alguna columna puede ser relevante o no lo mejor es dejarla (y más adelante en posteriores etapas podremos darnos cuenta de si se debe preservar o no).\n",
        "\n",
        "En este caso todas las columnas pueden resultar relevantes, pero debemos verificar que no haya columnas categóricas con un sólo nivel, o columnas numéricas con un sólo valor:"
      ]
    },
    {
      "cell_type": "markdown",
      "metadata": {
        "id": "pCw6dYMryt0O"
      },
      "source": [
        "Todas las columnas categóricas tienen más de 1 subnivel. No eliminaremos ninguna.\n",
        "\n",
        "Verifiquemos lo que ocurre con las columnas numéricas:"
      ]
    },
    {
      "cell_type": "markdown",
      "metadata": {
        "id": "o_ulm42Hy8nm"
      },
      "source": [
        "Todas las columnas numéricas tienen desviaciones estándar (\"std\") diferentes de cero, lo que indica que no tienen un único valor.\n",
        "\n",
        "Preservaremos todas las columnas numéricas."
      ]
    },
    {
      "cell_type": "markdown",
      "metadata": {
        "id": "0B51bCfhZwqm"
      },
      "source": [
        "we chech if there are any column with one only value."
      ]
    },
    {
      "cell_type": "code",
      "execution_count": null,
      "metadata": {
        "colab": {
          "base_uri": "https://localhost:8080/"
        },
        "id": "UPZs2yCUY81J",
        "outputId": "086801d9-f61a-4cc8-9aa4-38da83cf0374"
      },
      "outputs": [],
      "source": [
        "categorical_cols = data_1.select_dtypes(include=['object', 'category']).columns\n",
        "cols_to_drop = [col for col in categorical_cols if data_1[col].nunique() == 1]\n",
        "\n",
        "numeric_cols = data_1.select_dtypes(include=['number']).columns\n",
        "cols_to_drop += [col for col in numeric_cols if data_1[col].nunique() == 1]\n",
        "\n",
        "cols_to_drop += [col for col in numeric_cols if data_1[col].std() == 0]\n",
        "\n",
        "print(f'columns to drop: {cols_to_drop}')"
      ]
    },
    {
      "cell_type": "markdown",
      "metadata": {
        "id": "WyPaJNZFzISZ"
      },
      "source": [
        "##4.3 Filas repetidas"
      ]
    },
    {
      "cell_type": "code",
      "execution_count": null,
      "metadata": {
        "colab": {
          "base_uri": "https://localhost:8080/"
        },
        "id": "udsfp24wZ9Vo",
        "outputId": "6a0012cc-6403-4628-ef8a-32ce35ddf805"
      },
      "outputs": [],
      "source": [
        "duplicate_rows = data_1.duplicated().sum()\n",
        "data_2 = data_1.drop_duplicates()\n",
        "\n",
        "print(\"Número de filas duplicadas:\", duplicate_rows)"
      ]
    },
    {
      "cell_type": "markdown",
      "metadata": {
        "id": "vAdN5qxyzpRV"
      },
      "source": [
        "##4.4 *Outliers* en las variables numéricas\n",
        "\n",
        "No siempre se deben eliminar los *outliers* porque dependiendo de la variable numérica analizada estos pueden contener información importante.\n"
      ]
    },
    {
      "cell_type": "code",
      "execution_count": null,
      "metadata": {
        "colab": {
          "base_uri": "https://localhost:8080/"
        },
        "id": "9rO_QjtKbKqf",
        "outputId": "77c54254-e695-421d-dadd-4b76c0caece9"
      },
      "outputs": [],
      "source": [
        "no_sense_age = data_2[(data_2['age'] > 100) | (data_2['age'] < 18)]\n",
        "no_sense_age_i = data_2[(data_2['age'] > 100) | (data_2['age'] < 18)].index\n",
        "data_3 = data_2.drop(no_sense_age_i)\n",
        "\n",
        "print(f\"number rows with no sense age: {len(no_sense_age)}\")"
      ]
    },
    {
      "cell_type": "code",
      "execution_count": null,
      "metadata": {
        "colab": {
          "base_uri": "https://localhost:8080/"
        },
        "id": "yxNEA7PXcBKr",
        "outputId": "b2c32285-e4cb-47e4-828c-22957ce55341"
      },
      "outputs": [],
      "source": [
        "no_sense_duration = data_3[(data_2['duration'] < 0)]\n",
        "no_sense_duration_i = data_3[(data_2['duration'] < 0)].index\n",
        "data_4 = data_3.drop(no_sense_duration_i)\n",
        "\n",
        "print(f\"number rows with no sense age: {len(no_sense_duration)}\")"
      ]
    },
    {
      "cell_type": "markdown",
      "metadata": {
        "id": "Ys8L2CGb4vWq"
      },
      "source": [
        "##4.5 Errores tipográficos en variables categóricas\n",
        "\n",
        "En una variable categórica pueden aparecer sub-niveles como \"unknown\" y \"UNK\" que para nosotros son equivalentes pero que para nuestro programa parecerían diferentes.\n",
        "\n",
        "Se deben unificar estos sub-niveles"
      ]
    },
    {
      "cell_type": "code",
      "execution_count": null,
      "metadata": {
        "colab": {
          "base_uri": "https://localhost:8080/"
        },
        "id": "Xel1Er8Wcho6",
        "outputId": "c6a50750-ee08-411e-da2a-2555651269d7"
      },
      "outputs": [],
      "source": [
        "reparto_job = data_4['job'].value_counts()\n",
        "\n",
        "print(reparto_job)"
      ]
    },
    {
      "cell_type": "markdown",
      "metadata": {
        "id": "qLFLpunycm5Q"
      },
      "source": [
        "As we can see, there are lots of nonsens values, as having admin. AND administrative or Management and MANAGEMENT"
      ]
    },
    {
      "cell_type": "code",
      "execution_count": null,
      "metadata": {
        "colab": {
          "base_uri": "https://localhost:8080/"
        },
        "id": "2rLFID-Ac7nK",
        "outputId": "26f294a5-ea6c-4565-d782-3e3dfab9a6e0"
      },
      "outputs": [],
      "source": [
        "data_5 = data_4.copy()\n",
        "data_5['job'] = data_5['job'].replace({\n",
        "    'administrative': 'admin.',\n",
        "    'Management': 'management',\n",
        "    'MANAGEMENT': 'management',\n",
        "    'Services': 'services',\n",
        "    'Self-employed': 'self-employed',\n",
        "    'Retired': 'retired'\n",
        "})\n",
        "print(data_5['job'].value_counts())"
      ]
    },
    {
      "cell_type": "markdown",
      "metadata": {
        "id": "2KqKzvR-ddXQ"
      },
      "source": [
        "As you can se we have the column unkonwn, this must be converted as a null value.\n",
        "\n",
        "The othe columns have almost the same problem as this one, same value called with other name.\n",
        "\n",
        "I am not going to clean them all because it will be repetitive and this is a how-to-do notebook."
      ]
    },
    {
      "cell_type": "markdown",
      "metadata": {
        "id": "wgOD_fSUAIOt"
      },
      "source": [
        "## Conclusiones"
      ]
    },
    {
      "cell_type": "markdown",
      "metadata": {
        "id": "l8N2pka8eA8r"
      },
      "source": [
        "This is the mandatory first step, skip this step will make the rest of the work useless, and as you have seen when you are cleaning you will be noticing of new things to do, as we have seen with the unknown value in the job column"
      ]
    },
    {
      "cell_type": "code",
      "execution_count": null,
      "metadata": {
        "id": "s90V96SlBOL0"
      },
      "outputs": [],
      "source": [
        "#data.to_csv(ruta, index=False)"
      ]
    }
  ],
  "metadata": {
    "colab": {
      "provenance": []
    },
    "kernelspec": {
      "display_name": "Python 3",
      "name": "python3"
    },
    "language_info": {
      "name": "python",
      "version": "3.10.11"
    }
  },
  "nbformat": 4,
  "nbformat_minor": 0
}
